{
 "cells": [
  {
   "cell_type": "code",
   "execution_count": 1,
   "id": "7473c78f-72f6-47c5-8ac9-643bedcd9b9b",
   "metadata": {},
   "outputs": [],
   "source": [
    "import numpy as np\n",
    "import pandas as pd\n",
    "import matplotlib.pyplot as plt\n",
    "import seaborn as sns\n",
    "import itertools\n",
    "from collections import defaultdict"
   ]
  },
  {
   "cell_type": "code",
   "execution_count": 2,
   "id": "a865b326-6759-4163-8bd3-00a6d2c85c2b",
   "metadata": {},
   "outputs": [],
   "source": [
    "#class Grid:\n",
    "    #==================================#\n",
    "    # Python Wrapper Class for 2D npArray\n",
    "    # Stores values representing availibility\n",
    "    # Expects tuple(x,y) format of values\n",
    "    #==================================#\n",
    "#    def __init__(self, size):\n",
    "#        self.size = size\n",
    "#        self.grid = np.empty((size, size), dtype= np.ulonglong)\n",
    "    \n",
    "#    def insert(self, Person_id, times):\n",
    "#        self.grid[times] += 1*10**Person_id\n",
    "#    def delete(self, Person_id, times):\n",
    "#        self.grid[times] -= 1*10**Person_id\n",
    "        \n",
    "#    def insertMult(self, Person_id, times):\n",
    "#        self.grid[tuple(zip(*times))] += 1*10**Person_id\n",
    "        \n",
    "#    def deleteMult(self, Person_id, times):\n",
    "#        self.grid[tuple(zip(*times))] -= 1*10**Person_id\n",
    "    \n",
    "#    def isAvailable(self, Person_id, time):\n",
    "#        if Person_id >= len(str(self.grid[time])):\n",
    "#            return False\n",
    "#        return str(self.grid[time])[::-1][Person_id] == '1'\n",
    "    \n",
    "#   def getTotal(self, time):\n",
    "#       return sum(map(int, str(self.grid[time]) ))\n",
    "    \n",
    "#   def getNextAvailable(self, Person_id, time):\n",
    "        \n",
    "#       baseStr = str(self.grid[time])[::-1]\n",
    "#       if Person_id >= len(baseStr):\n",
    "#           return baseStr.rfind('1')\n",
    "        \n",
    "#       if baseStr[Person_id] == '1':\n",
    "#           return Person_id\n",
    "        \n",
    "#       back = baseStr[Person_id:]\n",
    "#       front = baseStr[:Person_id]\n",
    "        #print(baseStr)\n",
    "        #print(\"front: \", front, \"distance: \", front[::-1].find(\"1\"))\n",
    "        #print(\"back: \", back, \"distance: \", back.find(\"1\"))\n",
    "        \n",
    "#       frontL = front[::-1].find(\"1\")\n",
    "#       backL = back.find(\"1\")\n",
    "        \n",
    "#       if backL == -1 and frontL == -1:\n",
    "#           return -1\n",
    "#       elif backL < frontL or frontL == -1:\n",
    "#           return Person_id+backL\n",
    "#       elif frontL > backL or backL == -1:\n",
    "#           return Person_id - frontL\n",
    "        \n",
    "#       return (Person_id-frontL, Person_id+backL)\n",
    "    \n",
    "#   def print(self):\n",
    "#       print(self.grid)"
   ]
  },
  {
   "cell_type": "code",
   "execution_count": 3,
   "id": "5325407f-ca4b-418b-8417-68e74822504b",
   "metadata": {},
   "outputs": [],
   "source": [
    "class Grid:\n",
    "    def __init__(self, size):\n",
    "        self.size = size\n",
    "        self.Grid = pd.DataFrame(None, columns= [(x//size, x%size) for x in range(size**2)], dtype = bool)\n",
    "        \n",
    "    def insert(self, idx, times: list):\n",
    "            \n",
    "        self.Grid.loc[idx] = [ x in set(times) for x in self.Grid.columns]\n",
    "        \n",
    "    def delete(self, idx):\n",
    "        if idx in self.Grid.index:\n",
    "            self.Grid.drop(index=idx, inplace= True)\n",
    "        else:\n",
    "            print(\"Not in index\")\n",
    "    \n",
    "    def change(self, idx, times: list, value):\n",
    "        self.Grid.loc[idx] = [ value if x in set(times) else y for x,y in zip(self.Grid.columns, self.Grid.loc[idx])]\n",
    "    \n",
    "    def isAvailable(self, idx, times: list):\n",
    "        if idx not in self.Grid.index:\n",
    "            print(\"Not in index\")\n",
    "            return False\n",
    "        \n",
    "        pos = self.Grid.index.get_loc(idx)\n",
    "        return self.Grid.iloc[pos, times[0]*self.size + times[1]]\n",
    "    \n",
    "    def getTotal(self, times):\n",
    "        return self.Grid[times].sum()\n",
    "    def getTotalbyidx(self, idx):\n",
    "        return self.Grid.loc[idx].sum()\n",
    "    def getTotalSpots(self):\n",
    "        return len(self.Grid.columns)\n",
    "    def getAvailable(self, time):\n",
    "        return self.Grid.loc[self.Grid[time] == True][time]\n",
    "    \n",
    "#    def getNextAvailable(self, time):\n",
    "#        ser = self.getAvailable(time)\n",
    "#        ser = ser.to_frame()\n",
    "#        arr = []\n",
    "#        for x in ser.index:\n",
    "#            arr.append(self.getTotalbyidx(x))\n",
    "            \n",
    "#        ser[\"vals\"] = arr\n",
    "#        return ser.sort_values(by = \"vals\")\n",
    "\n",
    "    def getNextAvailable(self, time):\n",
    "        ser = self.getAvailable(time)\n",
    "        return ser.sort_index(key = lambda x: [self.getTotalbyidx(y) for y in x])\n",
    "    def print(self):\n",
    "        print(self.Grid)\n",
    "    \n",
    "class Person:\n",
    "    newid = itertools.count()\n",
    "    def __init__(self):\n",
    "        self.id = next(Person.newid)\n",
    "        self.list = set()\n",
    "        \n",
    "    def getList(self):\n",
    "        return self.list\n",
    "    \n",
    "    def addtoList(self, hh, mm):\n",
    "        self.list.append((hh, mm))\n",
    "    def removeFromList(self, hh, mm):\n",
    "        if (hh, mm) in self.list:\n",
    "            self.list.remove((hh,mm))\n",
    "        else:\n",
    "            print(\"not in list\")\n",
    "            \n",
    "    def inList(self, hh, mm):\n",
    "        return (hh, mm) in self.list\n",
    "            "
   ]
  },
  {
   "cell_type": "code",
   "execution_count": 4,
   "id": "ac7c0c04-3820-4204-88a9-9f46f34ef42c",
   "metadata": {},
   "outputs": [
    {
     "name": "stdout",
     "output_type": "stream",
     "text": [
      "20\n",
      "60\n"
     ]
    }
   ],
   "source": [
    "print (pd.options.display.max_columns)\n",
    "print (pd.options.display.max_rows)"
   ]
  },
  {
   "cell_type": "code",
   "execution_count": 5,
   "id": "732012b8-b492-4971-9f06-1156e6779657",
   "metadata": {},
   "outputs": [
    {
     "name": "stdout",
     "output_type": "stream",
     "text": [
      "Test is Available:  False \n",
      "\n"
     ]
    },
    {
     "data": {
      "text/plain": [
       "20    True\n",
       "3     True\n",
       "Name: (0, 0), dtype: bool"
      ]
     },
     "metadata": {},
     "output_type": "display_data"
    },
    {
     "name": "stdout",
     "output_type": "stream",
     "text": [
      "\n",
      "Test Total by Row:  3\n",
      "Test Total by Column:  2 \n",
      "\n"
     ]
    },
    {
     "data": {
      "text/plain": [
       "3     True\n",
       "20    True\n",
       "Name: (0, 0), dtype: bool"
      ]
     },
     "metadata": {},
     "output_type": "display_data"
    },
    {
     "data": {
      "text/html": [
       "<div>\n",
       "<style scoped>\n",
       "    .dataframe tbody tr th:only-of-type {\n",
       "        vertical-align: middle;\n",
       "    }\n",
       "\n",
       "    .dataframe tbody tr th {\n",
       "        vertical-align: top;\n",
       "    }\n",
       "\n",
       "    .dataframe thead th {\n",
       "        text-align: right;\n",
       "    }\n",
       "</style>\n",
       "<table border=\"1\" class=\"dataframe\">\n",
       "  <thead>\n",
       "    <tr style=\"text-align: right;\">\n",
       "      <th></th>\n",
       "      <th>(0, 0)</th>\n",
       "      <th>(0, 1)</th>\n",
       "      <th>(0, 2)</th>\n",
       "      <th>(0, 3)</th>\n",
       "      <th>(1, 0)</th>\n",
       "      <th>(1, 1)</th>\n",
       "      <th>(1, 2)</th>\n",
       "      <th>(1, 3)</th>\n",
       "      <th>(2, 0)</th>\n",
       "      <th>(2, 1)</th>\n",
       "      <th>(2, 2)</th>\n",
       "      <th>(2, 3)</th>\n",
       "      <th>(3, 0)</th>\n",
       "      <th>(3, 1)</th>\n",
       "      <th>(3, 2)</th>\n",
       "      <th>(3, 3)</th>\n",
       "    </tr>\n",
       "  </thead>\n",
       "  <tbody>\n",
       "    <tr>\n",
       "      <th>20</th>\n",
       "      <td>True</td>\n",
       "      <td>False</td>\n",
       "      <td>False</td>\n",
       "      <td>True</td>\n",
       "      <td>False</td>\n",
       "      <td>False</td>\n",
       "      <td>False</td>\n",
       "      <td>False</td>\n",
       "      <td>False</td>\n",
       "      <td>False</td>\n",
       "      <td>True</td>\n",
       "      <td>False</td>\n",
       "      <td>False</td>\n",
       "      <td>False</td>\n",
       "      <td>False</td>\n",
       "      <td>False</td>\n",
       "    </tr>\n",
       "    <tr>\n",
       "      <th>0</th>\n",
       "      <td>False</td>\n",
       "      <td>False</td>\n",
       "      <td>False</td>\n",
       "      <td>True</td>\n",
       "      <td>False</td>\n",
       "      <td>False</td>\n",
       "      <td>False</td>\n",
       "      <td>False</td>\n",
       "      <td>False</td>\n",
       "      <td>False</td>\n",
       "      <td>False</td>\n",
       "      <td>False</td>\n",
       "      <td>False</td>\n",
       "      <td>False</td>\n",
       "      <td>False</td>\n",
       "      <td>False</td>\n",
       "    </tr>\n",
       "    <tr>\n",
       "      <th>3</th>\n",
       "      <td>True</td>\n",
       "      <td>False</td>\n",
       "      <td>False</td>\n",
       "      <td>False</td>\n",
       "      <td>True</td>\n",
       "      <td>False</td>\n",
       "      <td>False</td>\n",
       "      <td>False</td>\n",
       "      <td>False</td>\n",
       "      <td>False</td>\n",
       "      <td>False</td>\n",
       "      <td>False</td>\n",
       "      <td>False</td>\n",
       "      <td>False</td>\n",
       "      <td>False</td>\n",
       "      <td>False</td>\n",
       "    </tr>\n",
       "  </tbody>\n",
       "</table>\n",
       "</div>"
      ],
      "text/plain": [
       "    (0, 0)  (0, 1)  (0, 2)  (0, 3)  (1, 0)  (1, 1)  (1, 2)  (1, 3)  (2, 0)  \\\n",
       "20    True   False   False    True   False   False   False   False   False   \n",
       "0    False   False   False    True   False   False   False   False   False   \n",
       "3     True   False   False   False    True   False   False   False   False   \n",
       "\n",
       "    (2, 1)  (2, 2)  (2, 3)  (3, 0)  (3, 1)  (3, 2)  (3, 3)  \n",
       "20   False    True   False   False   False   False   False  \n",
       "0    False   False   False   False   False   False   False  \n",
       "3    False   False   False   False   False   False   False  "
      ]
     },
     "metadata": {},
     "output_type": "display_data"
    }
   ],
   "source": [
    "test = Grid(4)\n",
    "#test.print()\n",
    "test.insert(20, [(0,0),(0,3),(2,2)])\n",
    "\n",
    "test.insert(0, [(0,3)])\n",
    "test.insert(3, [(0,0)])\n",
    "test.change(3, [(1,0)], True)\n",
    "\n",
    "print(\"Test is Available: \", test.isAvailable(3, (1,1)), \"\\n\" )\n",
    "display(test.getAvailable((0,0)) )\n",
    "print(\"\\nTest Total by Row: \", test.getTotalbyidx(20))\n",
    "print(\"Test Total by Column: \", test.getTotal((0,0)), \"\\n\" )\n",
    "\n",
    "display(test.getNextAvailable((0,0)) )\n",
    "display(test.Grid)"
   ]
  },
  {
   "cell_type": "code",
   "execution_count": 6,
   "id": "0ed0524e-c7c6-4f5a-a5bf-3ced95d1b6ca",
   "metadata": {},
   "outputs": [
    {
     "name": "stdout",
     "output_type": "stream",
     "text": [
      "Not in index\n"
     ]
    },
    {
     "data": {
      "text/plain": [
       "1"
      ]
     },
     "execution_count": 6,
     "metadata": {},
     "output_type": "execute_result"
    }
   ],
   "source": [
    "test.delete(4)\n",
    "test.getTotal((2,2))"
   ]
  },
  {
   "cell_type": "code",
   "execution_count": 7,
   "id": "4a164e31-4ed2-4d64-89e3-aeaac88492c9",
   "metadata": {},
   "outputs": [
    {
     "name": "stdout",
     "output_type": "stream",
     "text": [
      "    (0, 0)  (0, 1)  (0, 2)  (0, 3)  (1, 0)  (1, 1)  (1, 2)  (1, 3)  (2, 0)  \\\n",
      "20    True   False   False    True   False   False   False   False   False   \n",
      "0    False   False   False    True   False   False   False   False   False   \n",
      "3     True   False   False   False    True   False   False   False   False   \n",
      "\n",
      "    (2, 1)  (2, 2)  (2, 3)  (3, 0)  (3, 1)  (3, 2)  (3, 3)  \n",
      "20   False    True   False   False   False   False   False  \n",
      "0    False   False   False   False   False   False   False  \n",
      "3    False   False   False   False   False   False   False  \n"
     ]
    }
   ],
   "source": [
    "test.print()"
   ]
  },
  {
   "cell_type": "code",
   "execution_count": 8,
   "id": "57f21932-abd0-498a-be85-9d5874695b8b",
   "metadata": {},
   "outputs": [
    {
     "name": "stdout",
     "output_type": "stream",
     "text": [
      "Not in index\n"
     ]
    },
    {
     "data": {
      "text/plain": [
       "False"
      ]
     },
     "execution_count": 8,
     "metadata": {},
     "output_type": "execute_result"
    }
   ],
   "source": [
    "test.isAvailable(4, (2,2))"
   ]
  },
  {
   "cell_type": "code",
   "execution_count": 9,
   "id": "a324ff2d-8070-4b70-bb47-ffe470ce5f40",
   "metadata": {},
   "outputs": [
    {
     "data": {
      "text/plain": [
       "True"
      ]
     },
     "execution_count": 9,
     "metadata": {},
     "output_type": "execute_result"
    }
   ],
   "source": [
    "test.isAvailable(3, (1,0))"
   ]
  },
  {
   "cell_type": "markdown",
   "id": "ded720a6-57c4-4cb2-b18e-432da0469ddc",
   "metadata": {},
   "source": [
    "# Things to try\n",
    "min value of matrix\n",
    "matrix first, break ties with hashmap\n",
    "\n",
    "# Calculate minimize the loss E(P(x)/m*n) + E(M(x)/X)\n",
    "- where x/m*n is the entropy for person,P, and P(x) is total available for person\n",
    "- where E(M(x)/X) is the entropy of available spaces, M(x), against total spaces, X\n",
    "# Operations:\n",
    "How to keep track of positions\n",
    "How to deal with failure end state\n",
    "How to represent success state\n",
    "Best way to find next position\n",
    "\n",
    "# Failure States:\n",
    "Easy: when X > m*n\n",
    "\n",
    "Harder: when remaining states do not match remaining X states\n",
    "\n",
    "# Success state:\n",
    "When list is empty"
   ]
  },
  {
   "cell_type": "code",
   "execution_count": 10,
   "id": "35da9580-3522-4dda-b671-22b8cfbd4127",
   "metadata": {},
   "outputs": [],
   "source": [
    "\n",
    "\"\"\" \n",
    "schedule.insertMult(people[0], ((),(),(),(),(),(),(),(),(),()))\n",
    "schedule.insertMult(people[1], ((),(),(),(),(),(),(),()))\n",
    "schedule.insertMult(people[2], ((),(),(),(),(),()))\n",
    "schedule.insertMult(people[3], ((),(),(),(),(),(),(),(),(),(),()))\n",
    "schedule.insertMult(people[4], ((),(),(),(),(),(),()))\n",
    "schedule.insertMult(people[5], ((),(),(),(),()))\n",
    "schedule.insertMult(people[6], ((),(),()))\n",
    "schedule.insertMult(people[7], (()))\n",
    "schedule.insertMult(people[8], ((),(),(),(),(),()))\n",
    "schedule.insertMult(people[9], ((),(),(),(),(),(),(),(),()))\n",
    "schedule.insertMult(people[10], ((),(),(),()))\n",
    "schedule.insertMult(people[11], ((),(),(),(),(),(),()))\n",
    "schedule.insertMult(people[12], ((),(),(),(),(),()))\n",
    "schedule.insertMult(people[13], ((),(),(),(),(),(),(),(),(),()))\n",
    "schedule.insertMult(people[14], ((),(),(),(),(),(),(),()))\n",
    "schedule.insertMult(people[15], ((),(),(),(),()))\n",
    "schedule.insertMult(people[16], ((),(),(),(),(),(),(),()))\n",
    "schedule.insertMult(people[17], ((),(),(),(),(),()))\n",
    "schedule.insertMult(people[18], ((),(),(),(),(),(),(),(),()))\n",
    "schedule.insertMult(people[19], ((),(),(),(),(),(),(),()))\n",
    "schedule.insertMult(people[20], ((),(),(),(),(),(),(),(),(),(),(),(),()))\n",
    "schedule.insertMult(people[21], ((),(),(),(),(),(),()))\n",
    "schedule.insertMult(people[22], ((),(),(),(),(),(),()))\n",
    "schedule.insertMult(people[23], ((),(),(),(),(),(),(),(),()))\n",
    "schedule.insertMult(people[24], ((),(),(),(),(),(),(),()))\n",
    "schedule.insertMult(people[25], ((),(),(),()))\n",
    "\"\"\"\n",
    "people = [Person() for x in range(26)]"
   ]
  },
  {
   "cell_type": "code",
   "execution_count": 11,
   "id": "089c549c-16f4-4b83-a26d-59fb2b728da9",
   "metadata": {},
   "outputs": [
    {
     "name": "stdout",
     "output_type": "stream",
     "text": [
      "Length of list:  1862\n",
      "Length of list:  781\n",
      "Length of list:  1853\n",
      "Length of list:  1788\n",
      "Length of list:  274\n",
      "Length of list:  125\n",
      "Length of list:  1447\n",
      "Length of list:  1713\n",
      "Length of list:  1633\n",
      "Length of list:  1803\n",
      "Length of list:  1834\n",
      "Length of list:  2193\n",
      "Length of list:  1340\n",
      "Length of list:  346\n",
      "Length of list:  1395\n",
      "Length of list:  130\n",
      "Length of list:  1033\n",
      "Length of list:  146\n",
      "Length of list:  2141\n",
      "Length of list:  674\n",
      "Length of list:  1824\n",
      "Length of list:  1880\n",
      "Length of list:  815\n",
      "Length of list:  1216\n",
      "Length of list:  937\n",
      "Length of list:  466\n",
      "    (0, 0)  (0, 1)  (0, 2)  (0, 3)  (0, 4)  (0, 5)  (0, 6)  (0, 7)  (0, 8)  \\\n",
      "0    False    True    True    True    True    True    True    True   False   \n",
      "1    False   False   False    True   False    True   False   False    True   \n",
      "2     True    True    True    True   False    True   False   False   False   \n",
      "3     True    True    True    True    True    True    True    True   False   \n",
      "4    False   False   False   False    True   False   False    True   False   \n",
      "5    False   False    True   False   False   False   False   False   False   \n",
      "6    False    True    True   False    True    True   False    True   False   \n",
      "7     True    True    True    True    True    True   False    True   False   \n",
      "8    False    True    True    True    True    True    True    True    True   \n",
      "9     True    True    True    True    True    True   False    True   False   \n",
      "10   False   False   False    True    True    True    True    True   False   \n",
      "11    True    True    True    True    True    True    True    True    True   \n",
      "12   False    True    True    True   False    True   False    True    True   \n",
      "13   False   False   False    True   False   False   False   False   False   \n",
      "14    True    True   False   False   False   False   False    True    True   \n",
      "15   False    True   False   False   False   False   False    True   False   \n",
      "16    True   False   False   False    True    True    True   False    True   \n",
      "17   False   False   False   False    True   False   False   False   False   \n",
      "18    True    True    True   False   False    True    True    True    True   \n",
      "19   False   False   False   False   False   False   False   False   False   \n",
      "20    True    True   False    True    True   False    True    True    True   \n",
      "21    True    True    True    True    True   False    True    True    True   \n",
      "22   False    True    True   False   False   False   False   False   False   \n",
      "23    True   False    True    True   False    True    True    True   False   \n",
      "24    True   False   False   False   False   False   False    True   False   \n",
      "25   False   False   False   False    True   False   False    True    True   \n",
      "\n",
      "    (0, 9)  ...  (47, 38)  (47, 39)  (47, 40)  (47, 41)  (47, 42)  (47, 43)  \\\n",
      "0    False  ...     False      True      True      True      True     False   \n",
      "1    False  ...     False      True     False     False     False     False   \n",
      "2     True  ...      True      True      True      True     False      True   \n",
      "3     True  ...     False      True     False      True      True      True   \n",
      "4    False  ...      True     False     False     False     False     False   \n",
      "5    False  ...     False     False     False     False      True      True   \n",
      "6    False  ...     False     False     False     False      True      True   \n",
      "7     True  ...      True      True      True      True     False      True   \n",
      "8     True  ...     False      True     False     False      True      True   \n",
      "9     True  ...      True      True      True     False      True      True   \n",
      "10    True  ...      True     False      True      True     False      True   \n",
      "11    True  ...      True     False      True      True      True      True   \n",
      "12   False  ...      True      True      True     False     False      True   \n",
      "13   False  ...     False      True      True     False     False     False   \n",
      "14   False  ...     False     False     False      True      True     False   \n",
      "15   False  ...     False     False     False     False     False     False   \n",
      "16    True  ...      True      True      True      True     False      True   \n",
      "17   False  ...     False     False     False     False     False     False   \n",
      "18    True  ...      True      True      True      True      True      True   \n",
      "19   False  ...     False      True     False     False     False     False   \n",
      "20    True  ...      True      True      True     False      True      True   \n",
      "21    True  ...      True      True      True      True     False     False   \n",
      "22   False  ...      True     False      True     False     False     False   \n",
      "23   False  ...     False     False      True     False      True     False   \n",
      "24    True  ...      True      True     False      True     False     False   \n",
      "25   False  ...     False     False      True      True     False     False   \n",
      "\n",
      "    (47, 44)  (47, 45)  (47, 46)  (47, 47)  \n",
      "0      False      True      True      True  \n",
      "1       True      True     False      True  \n",
      "2       True      True      True     False  \n",
      "3      False      True      True     False  \n",
      "4      False     False     False     False  \n",
      "5      False     False     False     False  \n",
      "6       True      True      True      True  \n",
      "7       True      True     False      True  \n",
      "8      False     False     False     False  \n",
      "9       True     False      True      True  \n",
      "10      True      True      True     False  \n",
      "11      True      True      True      True  \n",
      "12      True     False     False      True  \n",
      "13      True     False     False     False  \n",
      "14      True      True      True     False  \n",
      "15     False     False     False     False  \n",
      "16     False      True     False     False  \n",
      "17     False     False     False     False  \n",
      "18      True      True      True      True  \n",
      "19     False      True     False      True  \n",
      "20     False      True      True     False  \n",
      "21     False      True      True      True  \n",
      "22      True      True      True     False  \n",
      "23      True     False      True      True  \n",
      "24     False     False      True     False  \n",
      "25     False      True     False     False  \n",
      "\n",
      "[26 rows x 2304 columns]\n"
     ]
    }
   ],
   "source": [
    "GRID_SIZE = 48\n",
    "schedule = Grid(GRID_SIZE)\n",
    "\n",
    "def createTupList(maxval, size):\n",
    "    s = set()\n",
    "    while len(s) != size:\n",
    "        s.add(tuple(np.random.randint(maxval, size = 2, dtype = np.uint64)))\n",
    "    #print(\"\\n\", list(s))\n",
    "    print(\"Length of list: \", len(s))\n",
    "    return list(s)\n",
    "\n",
    "for person in people:\n",
    "    r = np.random.randint(GRID_SIZE**2, dtype = np.uint64)\n",
    "    #print(person.id)\n",
    "    schedule.insert(person.id, createTupList(48, r))\n",
    "    \n",
    "schedule.print()"
   ]
  },
  {
   "cell_type": "code",
   "execution_count": 12,
   "id": "436166d7-1917-4408-9ee7-bcd5fd6d9a81",
   "metadata": {},
   "outputs": [
    {
     "name": "stdout",
     "output_type": "stream",
     "text": [
      "0  Person available:  1862\n",
      "1  Person available:  781\n",
      "2  Person available:  1853\n",
      "3  Person available:  1788\n",
      "4  Person available:  274\n",
      "5  Person available:  125\n",
      "6  Person available:  1447\n",
      "7  Person available:  1713\n",
      "8  Person available:  1633\n",
      "9  Person available:  1803\n",
      "10  Person available:  1834\n",
      "11  Person available:  2193\n",
      "12  Person available:  1340\n",
      "13  Person available:  346\n",
      "14  Person available:  1395\n",
      "15  Person available:  130\n",
      "16  Person available:  1033\n",
      "17  Person available:  146\n",
      "18  Person available:  2141\n",
      "19  Person available:  674\n",
      "20  Person available:  1824\n",
      "21  Person available:  1880\n",
      "22  Person available:  815\n",
      "23  Person available:  1216\n",
      "24  Person available:  937\n",
      "25  Person available:  466\n"
     ]
    }
   ],
   "source": [
    "for person in people:\n",
    "    print(person.id, \" Person available: \", schedule.getTotalbyidx(person.id))"
   ]
  },
  {
   "cell_type": "code",
   "execution_count": 13,
   "id": "3707332d-7cee-454a-a877-d31a1f5e5dcb",
   "metadata": {},
   "outputs": [
    {
     "name": "stdout",
     "output_type": "stream",
     "text": [
      "0  Person available (by %): 80.8160%\n",
      "1  Person available (by %): 33.8976%\n",
      "2  Person available (by %): 80.4253%\n",
      "3  Person available (by %): 77.6042%\n",
      "4  Person available (by %): 11.8924%\n",
      "5  Person available (by %): 5.4253%\n",
      "6  Person available (by %): 62.8038%\n",
      "7  Person available (by %): 74.3490%\n",
      "8  Person available (by %): 70.8767%\n",
      "9  Person available (by %): 78.2552%\n",
      "10  Person available (by %): 79.6007%\n",
      "11  Person available (by %): 95.1823%\n",
      "12  Person available (by %): 58.1597%\n",
      "13  Person available (by %): 15.0174%\n",
      "14  Person available (by %): 60.5469%\n",
      "15  Person available (by %): 5.6424%\n",
      "16  Person available (by %): 44.8351%\n",
      "17  Person available (by %): 6.3368%\n",
      "18  Person available (by %): 92.9253%\n",
      "19  Person available (by %): 29.2535%\n",
      "20  Person available (by %): 79.1667%\n",
      "21  Person available (by %): 81.5972%\n",
      "22  Person available (by %): 35.3733%\n",
      "23  Person available (by %): 52.7778%\n",
      "24  Person available (by %): 40.6684%\n",
      "25  Person available (by %): 20.2257%\n"
     ]
    }
   ],
   "source": [
    "for person in people:\n",
    "    print(person.id, \" Person available (by %): {:.4%}\".format(schedule.getTotalbyidx(person.id)/schedule.getTotalSpots()))"
   ]
  },
  {
   "cell_type": "code",
   "execution_count": null,
   "id": "f80ad063-db77-446c-a449-c85e21b5fddd",
   "metadata": {},
   "outputs": [],
   "source": []
  }
 ],
 "metadata": {
  "kernelspec": {
   "display_name": "Python 3 (ipykernel)",
   "language": "python",
   "name": "python3"
  },
  "language_info": {
   "codemirror_mode": {
    "name": "ipython",
    "version": 3
   },
   "file_extension": ".py",
   "mimetype": "text/x-python",
   "name": "python",
   "nbconvert_exporter": "python",
   "pygments_lexer": "ipython3",
   "version": "3.9.12"
  }
 },
 "nbformat": 4,
 "nbformat_minor": 5
}
